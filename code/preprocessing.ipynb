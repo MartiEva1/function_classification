{
  "nbformat": 4,
  "nbformat_minor": 0,
  "metadata": {
    "colab": {
      "name": "preprocessing.ipynb",
      "provenance": [],
      "collapsed_sections": []
    },
    "kernelspec": {
      "name": "python3",
      "display_name": "Python 3"
    }
  },
  "cells": [
    {
      "cell_type": "markdown",
      "metadata": {
        "id": "k30VyurOUwys"
      },
      "source": [
        "Pip install"
      ]
    },
    {
      "cell_type": "code",
      "metadata": {
        "id": "jK0TppYzBWyk",
        "outputId": "b4f95bd5-7be5-4524-d2c2-cfcb538b370d",
        "colab": {
          "base_uri": "https://localhost:8080/"
        }
      },
      "source": [
        "pip install momepy"
      ],
      "execution_count": 1,
      "outputs": [
        {
          "output_type": "stream",
          "text": [
            "Collecting momepy\n",
            "\u001b[?25l  Downloading https://files.pythonhosted.org/packages/85/7c/c0c657fba27d21b901b51b3a2d1c5a7049547460e6e43f674441a681f7d8/momepy-0.3.0-py3-none-any.whl (226kB)\n",
            "\u001b[K     |████████████████████████████████| 235kB 9.5MB/s \n",
            "\u001b[?25hCollecting libpysal>=4.1.0\n",
            "\u001b[?25l  Downloading https://files.pythonhosted.org/packages/98/b8/90e8d8a1cf8e5d38c89debf40d5bc89496395b5e2014a1de22228ead4b55/libpysal-4.3.0.tar.gz (2.4MB)\n",
            "\u001b[K     |████████████████████████████████| 2.4MB 15.7MB/s \n",
            "\u001b[?25hRequirement already satisfied: tqdm>=4.25.0 in /usr/local/lib/python3.6/dist-packages (from momepy) (4.41.1)\n",
            "Collecting geopandas>=0.5.1\n",
            "\u001b[?25l  Downloading https://files.pythonhosted.org/packages/f7/a4/e66aafbefcbb717813bf3a355c8c4fc3ed04ea1dd7feb2920f2f4f868921/geopandas-0.8.1-py2.py3-none-any.whl (962kB)\n",
            "\u001b[K     |████████████████████████████████| 972kB 50.0MB/s \n",
            "\u001b[?25hRequirement already satisfied: networkx>=2.3 in /usr/local/lib/python3.6/dist-packages (from momepy) (2.5)\n",
            "Requirement already satisfied: scipy>=0.11 in /usr/local/lib/python3.6/dist-packages (from libpysal>=4.1.0->momepy) (1.4.1)\n",
            "Requirement already satisfied: numpy>=1.3 in /usr/local/lib/python3.6/dist-packages (from libpysal>=4.1.0->momepy) (1.18.5)\n",
            "Requirement already satisfied: pandas in /usr/local/lib/python3.6/dist-packages (from libpysal>=4.1.0->momepy) (1.1.4)\n",
            "Requirement already satisfied: beautifulsoup4 in /usr/local/lib/python3.6/dist-packages (from libpysal>=4.1.0->momepy) (4.6.3)\n",
            "Requirement already satisfied: requests in /usr/local/lib/python3.6/dist-packages (from libpysal>=4.1.0->momepy) (2.23.0)\n",
            "Requirement already satisfied: jinja2 in /usr/local/lib/python3.6/dist-packages (from libpysal>=4.1.0->momepy) (2.11.2)\n",
            "Requirement already satisfied: shapely in /usr/local/lib/python3.6/dist-packages (from geopandas>=0.5.1->momepy) (1.7.1)\n",
            "Collecting pyproj>=2.2.0\n",
            "\u001b[?25l  Downloading https://files.pythonhosted.org/packages/e4/ab/280e80a67cfc109d15428c0ec56391fc03a65857b7727cf4e6e6f99a4204/pyproj-3.0.0.post1-cp36-cp36m-manylinux2010_x86_64.whl (6.4MB)\n",
            "\u001b[K     |████████████████████████████████| 6.5MB 49.6MB/s \n",
            "\u001b[?25hCollecting fiona\n",
            "\u001b[?25l  Downloading https://files.pythonhosted.org/packages/36/8b/e8b2c11bed5373c8e98edb85ce891b09aa1f4210fd451d0fb3696b7695a2/Fiona-1.8.17-cp36-cp36m-manylinux1_x86_64.whl (14.8MB)\n",
            "\u001b[K     |████████████████████████████████| 14.8MB 336kB/s \n",
            "\u001b[?25hRequirement already satisfied: decorator>=4.3.0 in /usr/local/lib/python3.6/dist-packages (from networkx>=2.3->momepy) (4.4.2)\n",
            "Requirement already satisfied: pytz>=2017.2 in /usr/local/lib/python3.6/dist-packages (from pandas->libpysal>=4.1.0->momepy) (2018.9)\n",
            "Requirement already satisfied: python-dateutil>=2.7.3 in /usr/local/lib/python3.6/dist-packages (from pandas->libpysal>=4.1.0->momepy) (2.8.1)\n",
            "Requirement already satisfied: chardet<4,>=3.0.2 in /usr/local/lib/python3.6/dist-packages (from requests->libpysal>=4.1.0->momepy) (3.0.4)\n",
            "Requirement already satisfied: idna<3,>=2.5 in /usr/local/lib/python3.6/dist-packages (from requests->libpysal>=4.1.0->momepy) (2.10)\n",
            "Requirement already satisfied: certifi>=2017.4.17 in /usr/local/lib/python3.6/dist-packages (from requests->libpysal>=4.1.0->momepy) (2020.6.20)\n",
            "Requirement already satisfied: urllib3!=1.25.0,!=1.25.1,<1.26,>=1.21.1 in /usr/local/lib/python3.6/dist-packages (from requests->libpysal>=4.1.0->momepy) (1.24.3)\n",
            "Requirement already satisfied: MarkupSafe>=0.23 in /usr/local/lib/python3.6/dist-packages (from jinja2->libpysal>=4.1.0->momepy) (1.1.1)\n",
            "Requirement already satisfied: attrs>=17 in /usr/local/lib/python3.6/dist-packages (from fiona->geopandas>=0.5.1->momepy) (20.2.0)\n",
            "Requirement already satisfied: click<8,>=4.0 in /usr/local/lib/python3.6/dist-packages (from fiona->geopandas>=0.5.1->momepy) (7.1.2)\n",
            "Requirement already satisfied: six>=1.7 in /usr/local/lib/python3.6/dist-packages (from fiona->geopandas>=0.5.1->momepy) (1.15.0)\n",
            "Collecting munch\n",
            "  Downloading https://files.pythonhosted.org/packages/cc/ab/85d8da5c9a45e072301beb37ad7f833cd344e04c817d97e0cc75681d248f/munch-2.5.0-py2.py3-none-any.whl\n",
            "Collecting click-plugins>=1.0\n",
            "  Downloading https://files.pythonhosted.org/packages/e9/da/824b92d9942f4e472702488857914bdd50f73021efea15b4cad9aca8ecef/click_plugins-1.1.1-py2.py3-none-any.whl\n",
            "Collecting cligj>=0.5\n",
            "  Downloading https://files.pythonhosted.org/packages/ba/06/e3440b1f2dc802d35f329f299ba96153e9fcbfdef75e17f4b61f79430c6a/cligj-0.7.0-py3-none-any.whl\n",
            "Building wheels for collected packages: libpysal\n",
            "  Building wheel for libpysal (setup.py) ... \u001b[?25l\u001b[?25hdone\n",
            "  Created wheel for libpysal: filename=libpysal-4.3.0-py2.py3-none-any.whl size=2379082 sha256=bae3b7a2ca817efe898126eb410365d5436f176665f61f9d7e2f096b52adc00e\n",
            "  Stored in directory: /root/.cache/pip/wheels/68/44/db/3d7a8b7d9ae5dba0cfcfb37f14e2a6e6f26b03557bdf1cf06d\n",
            "Successfully built libpysal\n",
            "Installing collected packages: libpysal, pyproj, munch, click-plugins, cligj, fiona, geopandas, momepy\n",
            "Successfully installed click-plugins-1.1.1 cligj-0.7.0 fiona-1.8.17 geopandas-0.8.1 libpysal-4.3.0 momepy-0.3.0 munch-2.5.0 pyproj-3.0.0.post1\n"
          ],
          "name": "stdout"
        }
      ]
    },
    {
      "cell_type": "markdown",
      "metadata": {
        "id": "XYq3WJPdhjTe"
      },
      "source": [
        "Imports"
      ]
    },
    {
      "cell_type": "code",
      "metadata": {
        "id": "ABWggypSUunk"
      },
      "source": [
        "import json\n",
        "import networkx as nx\n",
        "from networkx.readwrite import json_graph\n",
        "import momepy as mm"
      ],
      "execution_count": 2,
      "outputs": []
    },
    {
      "cell_type": "markdown",
      "metadata": {
        "id": "Mw5rL3G6Ud90"
      },
      "source": [
        "Preprocessing"
      ]
    },
    {
      "cell_type": "code",
      "metadata": {
        "id": "KYSLKePnTmpu",
        "outputId": "bfb5fcc9-3af7-467b-f974-7dca938cc191",
        "colab": {
          "base_uri": "https://localhost:8080/"
        }
      },
      "source": [
        "arithmetic=[\"add\",\"sub\",\"inc\",\"dec\",\"div\",\"mul\"]\n",
        "shift=[\"sal\",\"shl\",\"sar\",\"shr\",\"psl\",\"psr\"]\n",
        "four=[\"cmov\",\"idiv\",\"imul\",\"pxor\",\"punp\",\"padd\",\"pand\",\"psub\",\"pand\"]\n",
        "\n",
        "def decide_class(str):\n",
        "  if(str[0:3]==\"mov\"):\n",
        "    if(len(str)>4):\n",
        "      if(str[3]!=\"s\" and str[3]!=\"z\"):\n",
        "        return str[0:3]\n",
        "      else:\n",
        "        return str[0:4]\n",
        "    else:\n",
        "      return str[0:3]\n",
        "  elif(str[0:3]==\"cvt\" or str[-2:]==\"pd\" or str[-2:]==\"sd\"):\n",
        "    return \"float\"\n",
        "  elif(str[0:3]in arithmetic):\n",
        "    #return \"math\"\n",
        "    return str[0:3]\n",
        "  elif(str[0:3]in shift):\n",
        "    return \"shift\"\n",
        "  elif(str[0:3]==\"and\"):\n",
        "    return \"and\"\n",
        "  elif(str[0:3]==\"cmp\" or str[0:4]==\"pcmp\"):\n",
        "    return \"cmp\"\n",
        "  elif(str[0]=='j'):\n",
        "    if(str[0:3]!='jmp'):\n",
        "      return \"jumpc\"\n",
        "    else:\n",
        "      return str[0:3]\n",
        "  elif(str[0:4] in four):\n",
        "    return str[0:4]\n",
        "  elif(str[0:4]==\"cmov\"):\n",
        "    return str[0:4]\n",
        "  elif(str[0:3]==\"xor\"):\n",
        "    return \"xor\"\n",
        "  elif(str[0:3]==\"set\"):\n",
        "    return str[0:3]\n",
        "  elif(str[0]=='f' and len(str)>=3):\n",
        "    #this is an assumpion (FPU)\n",
        "    return \"float\"\n",
        "  return str\n",
        "\n",
        "file=open(\"drive/My Drive/ML/HW1/dataset.json\",\"r\")\n",
        "newfile=open(\"drive/My Drive/ML/HW1/processed_dataset.json\",\"w\")\n",
        "\n",
        "for line in file:\n",
        "  json_data = json.loads(line)\n",
        "  string=\"\"\n",
        "  list=json_data['lista_asm']\n",
        "  cfg=json_data['cfg']\n",
        "  graph = json_graph.adjacency_graph(cfg)\n",
        "  #nx.draw(graph)\n",
        "  #print(nx.info(graph))\n",
        "  edges=nx.number_of_edges(graph)\n",
        "  nodes=nx.number_of_nodes(graph)\n",
        "  has_cycles=1\n",
        "  try: nx.algorithms.cycles.find_cycle(graph)\n",
        "  except: has_cycles=0\n",
        "  cyclo_complexity=mm.cyclomatic(graph,radius=None)\n",
        "  flag=False\n",
        "  for instruction in list.split(\"'\"):\n",
        "    if(flag==False):\n",
        "      flag=True\n",
        "      continue\n",
        "    elif(flag==True):\n",
        "      flag=False\n",
        "    inst_list=instruction.split(\" \")\n",
        "    inst=\"\"\n",
        "    l=len(inst_list)\n",
        "    if(l>1):\n",
        "      inst=inst_list[0]\n",
        "      if(inst!=\"\"):\n",
        "        string=string+\"'\"+decide_class(inst)+\"',\"\n",
        "      if(inst_list[1][:3]==\"xmm\"):\n",
        "        inst=inst_list[1][:3]\n",
        "        string=string+\"'\"+inst+\"',\"\n",
        "      if(inst_list[1][:4]==\"byte\"):\n",
        "        string=string+\"'\"+\"byte\"+\"',\"\n",
        "      if(inst_list[1][:5]==\"dword\" or inst_list[1][:5]==\"qword\"):\n",
        "        string=string+\"'\"+inst_list[1][:5]+\"',\"\n",
        "    if(l>2 and inst_list[2][:4]==\"byte\"):\n",
        "      string=string+\"'\"+\"byte\"+\"',\"\n",
        "    else:\n",
        "      inst=inst_list[0]\n",
        "      if(inst!=\"\"):\n",
        "        string=string+\"'\"+decide_class(inst)+\"',\"\n",
        "\n",
        "  finalstr='{\"id\": '+'\"'+json_data['id']+'\", '+'\"semantic\": \"'+json_data['semantic']+'\", '+'\"edges\": \"'+str(edges)+'\", '+'\"cycles\": \"'+str(has_cycles)+'\", '+'\"cyclomatic\": \"'+str(cyclo_complexity)+'\", '+'\"instructions\": \"['+string[0:-1]+']\"}'\n",
        "  newfile.write(finalstr+'\\n')\n",
        "file.close()\n",
        "newfile.close()\n",
        "\n",
        "print(\"processed dataset saved in processed_dataset.json !\")"
      ],
      "execution_count": 3,
      "outputs": [
        {
          "output_type": "stream",
          "text": [
            "processed dataset saved in processed_dataset.json !\n"
          ],
          "name": "stdout"
        }
      ]
    }
  ]
}