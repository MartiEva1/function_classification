{
  "nbformat": 4,
  "nbformat_minor": 0,
  "metadata": {
    "colab": {
      "name": "hw1.ipynb",
      "provenance": [],
      "collapsed_sections": []
    },
    "kernelspec": {
      "name": "python3",
      "display_name": "Python 3"
    }
  },
  "cells": [
    {
      "cell_type": "markdown",
      "metadata": {
        "id": "BVKOtCLJseD3"
      },
      "source": [
        "Imports"
      ]
    },
    {
      "cell_type": "code",
      "metadata": {
        "id": "WZWEELZ9sgq7"
      },
      "source": [
        "import pandas as pd\n",
        "import random\n",
        "from sklearn.model_selection import train_test_split\n",
        "from sklearn.feature_extraction.text import *\n",
        "from sklearn.naive_bayes import *\n",
        "from sklearn.metrics import confusion_matrix, classification_report, plot_confusion_matrix, accuracy_score\n",
        "from sklearn import svm, tree\n",
        "from sklearn.model_selection import KFold,cross_val_score\n",
        "import time\n",
        "import matplotlib.pyplot as plt\n",
        "import seaborn as sns\n",
        "import numpy as np\n",
        "from scipy.sparse import csr_matrix, hstack\n",
        "\n",
        "\n"
      ],
      "execution_count": 1,
      "outputs": []
    },
    {
      "cell_type": "markdown",
      "metadata": {
        "id": "ibhpdyRjpB0X"
      },
      "source": [
        "Opening Json Processed Dataset"
      ]
    },
    {
      "cell_type": "code",
      "metadata": {
        "id": "f2CeAwBagaXR"
      },
      "source": [
        "dataset = pd.read_json(\"drive/My Drive/ML/HW1/processed_dataset.json\",lines=True)\n"
      ],
      "execution_count": 2,
      "outputs": []
    },
    {
      "cell_type": "markdown",
      "metadata": {
        "id": "9mDhRrhEo7dA"
      },
      "source": [
        "Count Vectorizer: fitted with the instructions"
      ]
    },
    {
      "cell_type": "code",
      "metadata": {
        "id": "tEwGuvbOpEiK"
      },
      "source": [
        "vectorizer = CountVectorizer(min_df=0.005) # multinomial\n",
        "\n",
        "X1= vectorizer.fit_transform(dataset['instructions'])\n",
        "y_all = dataset['semantic']\n"
      ],
      "execution_count": 3,
      "outputs": []
    },
    {
      "cell_type": "markdown",
      "metadata": {
        "id": "Ps7G4Ch5zvN2"
      },
      "source": [
        "Adding control flow graph features"
      ]
    },
    {
      "cell_type": "code",
      "metadata": {
        "id": "JkUOsdRvzyyV",
        "outputId": "536f9fa6-a13f-4ffb-9f56-e106ade117a3",
        "colab": {
          "base_uri": "https://localhost:8080/"
        }
      },
      "source": [
        "columns=vectorizer.get_feature_names()\n",
        "\n",
        "#adding number of edges\n",
        "edges=dataset['edges']\n",
        "l=len(edges)\n",
        "rows=np.arange(0,l)\n",
        "cols=np.full((l), 0, dtype=int)\n",
        "X2=csr_matrix((edges, (rows, cols)),shape=(l, 1)).toarray()\n",
        "X_tmp2=hstack((X1,X2))\n",
        "columns.append('edges')\n",
        "\n",
        "#adding cycles(true/false)\n",
        "cycles=dataset['cycles']\n",
        "X3=csr_matrix((cycles, (rows, cols)),shape=(l, 1)).toarray()\n",
        "X_tmp=hstack((X_tmp2,X3))\n",
        "columns.append('has_cycles')\n",
        "\n",
        "\n",
        "#adding cyclomatic complexity\n",
        "cyclo=dataset['cyclomatic']\n",
        "X4=csr_matrix((cyclo, (rows, cols)),shape=(l, 1)).toarray()\n",
        "X_all=hstack((X_tmp,X4))\n",
        "columns.append('cyclomatic_c')\n",
        "\n",
        "print(X_all.shape)\n",
        "print(pd.DataFrame(X_all.A[0:10], columns=columns).to_string())\n"
      ],
      "execution_count": 4,
      "outputs": [
        {
          "output_type": "stream",
          "text": [
            "(14397, 51)\n",
            "   add  and  bswap  bt  byte  call  cdq  cdqe  cmov  cmp  dec  div  dword  float  idiv  imul  inc  jmp  jumpc  lea  leave  mov  movs  movz  neg  nop  not  or  pand  pinsrw  pop  por  pshufd  punp  push  pxor  qword  ret  rol  ror  sbb  set  shift  sub  test  ucomiss  xmm  xor  edges  has_cycles  cyclomatic_c\n",
            "0    8    0      0   0     1    12    0     0     0   16    0    0      9      0     0     0    0   14     16    0      0   92     8     0    0    0    0   0     0       0    4    0       0     0     4     0     16    4    0    0    0    0      0    2     0        0    0    0     30           0             8\n",
            "1    0    0      0   0     0     2    0     0     0    0    0    0      0     22     0     0    0    6     18    0      0   12     4     0    0    0    0   0     0       0    0    0       0     0     4     8      0    4    0    0    0    0      0    2     8        0   21    0     20           0             6\n",
            "2   24  102      0   0    58     0    0     4     2   32    0    0     11      0     0     0   32    0     32   54      0  220    34    79   18   18    0  74     0       0    2    0       0     0     2     0      2    2    0    0    0    0    232    2     2        0    0   24     33           1            16\n",
            "3    0    0      0   0     0     2    0     0     0    0    0    0      0      0     0     0    0    0      2    0      0    8     6     0    0    0    0   0     0       0    0    0       0     0     0     0      5    0    0    0    0    0      0    2     2        0    0    0      1           0             0\n",
            "4    4    0      0   0     0    14    0     0     0   12    2    0      4      0     0     0    6    8     20    6      0   30     6     0    0    4    0   0     0       0    4    0       0     0     4     0      3    2    0    0    0    0      0    2     8        0    0   18     35           1            14\n",
            "5    4   22     12   0     0    60    0     0     0    2    0    0      1      0     0     0    0    0      2    0      0  194     0     4    0    0    0  26     0       0   24    0       0     0    14     0      5    8    2    2    0    0     50    0     0        0    0  152     62           0            28\n",
            "6   42   76      0   0    33     0    0     2     2   16    0    0      4      0     0     0   10    0     40   62      0  234    14    31    0   24    0  12    20       0   10    6       2     2    10     0      2    2    0    0    0    0    100   60     0        0   44   32     40           1            20\n",
            "7    0   44      0   0    17     0    0     0     0    4    0    0      0      0     0     0    4    0      4    0      0   88     0    21    0    2    0  20     0       0    4    0       0     0     4     0      0    2    0    0    0    0     62    0     0        0    0   44      4           1             2\n",
            "8    8    6      0   0     0     0    0    22    20   38    0    0      2      0     0     0   12    4     24   20      0   72     2     4    2    4    0   0     0       0   12    0       0     0    12     0      3    2    0    0    0    0      0    8     2        0    0    2     26           1            12\n",
            "9   10    0      0   0     0    14    0     0     0    2    0    0      4      0     0     0    0    8      2    0      0   66     2     0    0    0    0   0     0       0    4    0       0     0     2     0     12    4    0    0    0    0      0    2     0        0    0    4     16           0             3\n"
          ],
          "name": "stdout"
        }
      ]
    },
    {
      "cell_type": "markdown",
      "metadata": {
        "id": "6oJv32BJuMCn"
      },
      "source": [
        "Split Data"
      ]
    },
    {
      "cell_type": "code",
      "metadata": {
        "id": "3oh9Veg7uOCY",
        "outputId": "567a64b0-cbd8-497c-c5ab-97f1971513a0",
        "colab": {
          "base_uri": "https://localhost:8080/"
        }
      },
      "source": [
        "X_train, X_test, y_train, y_test = train_test_split(X_all, y_all, \n",
        "          test_size=0.3, random_state=15)\n",
        "\n",
        "print(\"Train: %d - Test: %d\" %(X_train.shape[0],X_test.shape[0]))"
      ],
      "execution_count": 5,
      "outputs": [
        {
          "output_type": "stream",
          "text": [
            "Train: 10077 - Test: 4320\n"
          ],
          "name": "stdout"
        }
      ]
    },
    {
      "cell_type": "markdown",
      "metadata": {
        "id": "OFGxhpcOugCp"
      },
      "source": [
        "Choose a Model"
      ]
    },
    {
      "cell_type": "code",
      "metadata": {
        "id": "xmA7BQ8hug5k",
        "outputId": "8fd8c18b-1842-49bd-8e57-edcfc74ef95b",
        "colab": {
          "base_uri": "https://localhost:8080/"
        }
      },
      "source": [
        "model_type = \"SVM\" \n",
        "\n",
        "if model_type == \"bernoulli\":\n",
        "  start=time.time()\n",
        "  model = BernoulliNB().fit(X_train, y_train)\n",
        "  t=time.time()-start\n",
        "  print(\"training running time: \"+str(t)+\" sec\")\n",
        "\n",
        "elif model_type == \"multinomial\":\n",
        "  start=time.time()\n",
        "  model = MultinomialNB().fit(X_train, y_train)\n",
        "  t=time.time()-start\n",
        "  print(\"training running time: \"+str(t)+\" sec\")\n",
        "\n",
        "elif model_type == \"SVM\":\n",
        "  start=time.time()\n",
        "  model = svm.SVC(kernel = 'linear', C=1).fit(X_train, y_train)\n",
        "  t=time.time()-start\n",
        "  print(\"training running time: \"+str(t)+\" sec\")\n",
        "\n",
        "\n"
      ],
      "execution_count": 6,
      "outputs": [
        {
          "output_type": "stream",
          "text": [
            "training running time: 31.82270312309265 sec\n"
          ],
          "name": "stdout"
        }
      ]
    },
    {
      "cell_type": "markdown",
      "metadata": {
        "id": "x_H8sybCun0Z"
      },
      "source": [
        "Evaluate the chosen model"
      ]
    },
    {
      "cell_type": "code",
      "metadata": {
        "id": "pOZ1Pzg8upIb",
        "outputId": "c74f8c4f-09a4-4836-aa1c-994ce5e1d953",
        "colab": {
          "base_uri": "https://localhost:8080/"
        }
      },
      "source": [
        "y_pred = model.predict(X_test)\n",
        "cm=confusion_matrix(y_test, y_pred)\n",
        "print(cm)\n",
        "print(classification_report(y_test, y_pred))\n",
        "print(\"accuracy_score: \"+str(accuracy_score(y_test,y_pred, normalize=True)))"
      ],
      "execution_count": 7,
      "outputs": [
        {
          "output_type": "stream",
          "text": [
            "[[ 806    0    4    0]\n",
            " [   0 1384   11    0]\n",
            " [   0    2 1173   12]\n",
            " [   0    0   52  876]]\n",
            "              precision    recall  f1-score   support\n",
            "\n",
            "  encryption       1.00      1.00      1.00       810\n",
            "        math       1.00      0.99      1.00      1395\n",
            "        sort       0.95      0.99      0.97      1187\n",
            "      string       0.99      0.94      0.96       928\n",
            "\n",
            "    accuracy                           0.98      4320\n",
            "   macro avg       0.98      0.98      0.98      4320\n",
            "weighted avg       0.98      0.98      0.98      4320\n",
            "\n",
            "accuracy_score: 0.98125\n"
          ],
          "name": "stdout"
        }
      ]
    },
    {
      "cell_type": "markdown",
      "metadata": {
        "id": "ovbK5x_vG2Zp"
      },
      "source": [
        "Plot the confusion Matrix"
      ]
    },
    {
      "cell_type": "code",
      "metadata": {
        "id": "EIO-jqE2G5Q0",
        "outputId": "2f9f5319-fc6a-4309-c1ee-c519423e3c88",
        "colab": {
          "base_uri": "https://localhost:8080/",
          "height": 296
        }
      },
      "source": [
        "plot_confusion_matrix(model,X_test, y_test,values_format='d',cmap=plt.cm.YlGn)"
      ],
      "execution_count": 8,
      "outputs": [
        {
          "output_type": "execute_result",
          "data": {
            "text/plain": [
              "<sklearn.metrics._plot.confusion_matrix.ConfusionMatrixDisplay at 0x7f2f2d9affd0>"
            ]
          },
          "metadata": {
            "tags": []
          },
          "execution_count": 8
        },
        {
          "output_type": "display_data",
          "data": {
            "image/png": "[encoded data removed]",
            "text/plain": [
              "<Figure size 432x288 with 2 Axes>"
            ]
          },
          "metadata": {
            "tags": [],
            "needs_background": "light"
          }
        }
      ]
    },
    {
      "cell_type": "markdown",
      "metadata": {
        "id": "V4HGj0iZJmkN"
      },
      "source": [
        "5-Fold Cross Validation "
      ]
    },
    {
      "cell_type": "code",
      "metadata": {
        "id": "jjFdKp_qJ5HZ",
        "outputId": "f7d4531e-f1b2-486a-da05-7dfab334a0d7",
        "colab": {
          "base_uri": "https://localhost:8080/",
          "height": 302
        }
      },
      "source": [
        "#cv = ShuffleSplit(n_splits=5, test_size=0.333, random_state=15)\n",
        "cv = KFold(n_splits=10)\n",
        "model=svm.SVC(kernel = 'linear', C=1)\n",
        "#model=MultinomialNB()\n",
        "scores = cross_val_score(model, X_all, y_all, cv=cv)\n",
        "\n",
        "print(scores)\n",
        "a_scores = pd.DataFrame(scores,columns=['Cross Val Score'])\n",
        "sns.set(style=\"white\", rc={\"lines.linewidth\": 3})\n",
        "sns.barplot(x=['fold0','fold1','fold2','fold3','fold4','fold5','fold6','fold7','fold8','fold9'],y=\"Cross Val Score\",data=a_scores)\n",
        "plt.show()\n",
        "sns.set()"
      ],
      "execution_count": 14,
      "outputs": [
        {
          "output_type": "stream",
          "text": [
            "[0.98611111 0.98402778 0.98680556 0.9875     0.98125    0.98333333\n",
            " 0.98402778 0.98888117 0.98123697 0.98332175]\n"
          ],
          "name": "stdout"
        },
        {
          "output_type": "display_data",
          "data": {
            "image/png": "[encoded data removed]",
            "text/plain": [
              "<Figure size 432x288 with 1 Axes>"
            ]
          },
          "metadata": {
            "tags": []
          }
        }
      ]
    }
  ]
}